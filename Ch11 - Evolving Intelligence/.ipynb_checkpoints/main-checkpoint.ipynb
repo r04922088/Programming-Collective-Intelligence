{
 "cells": [
  {
   "cell_type": "code",
   "execution_count": 1,
   "metadata": {},
   "outputs": [],
   "source": []
  },
  {
   "cell_type": "code",
   "execution_count": 2,
   "metadata": {},
   "outputs": [],
   "source": [
    "# make training data x and ground truth y"
   ]
  },
  {
   "cell_type": "code",
   "execution_count": 3,
   "metadata": {},
   "outputs": [],
   "source": [
    "def hiddenfunction(x, y):\n",
    "    \"\"\" a function that able to generate a set of training data depend on xy and return ground truth\n",
    "        the input paramator's count of this function is depend on input length(pc)\n",
    "    \"\"\"\n",
    "    return x**2 + 2*y + 3*x + 5"
   ]
  },
  {
   "cell_type": "code",
   "execution_count": 4,
   "metadata": {},
   "outputs": [],
   "source": [
    "def buildhiddenset():\n",
    "    \"\"\" a function that build a list of training dataset and groundtruth\n",
    "    \n",
    "    \"\"\"\n",
    "    rows = []\n",
    "    for i in range(200):\n",
    "        x = randint(0, 40)\n",
    "        y = randint(0, 40)\n",
    "        rows.append([x, y, hiddenfunction(x, y)])\n",
    "    return rows"
   ]
  },
  {
   "cell_type": "code",
   "execution_count": null,
   "metadata": {},
   "outputs": [],
   "source": []
  }
 ],
 "metadata": {
  "kernelspec": {
   "display_name": "Python 3",
   "language": "python",
   "name": "python3"
  },
  "language_info": {
   "codemirror_mode": {
    "name": "ipython",
    "version": 3
   },
   "file_extension": ".py",
   "mimetype": "text/x-python",
   "name": "python",
   "nbconvert_exporter": "python",
   "pygments_lexer": "ipython3",
   "version": "3.7.2"
  }
 },
 "nbformat": 4,
 "nbformat_minor": 2
}
